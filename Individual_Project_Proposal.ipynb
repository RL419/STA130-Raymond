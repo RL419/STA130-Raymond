{
 "cells": [
  {
   "cell_type": "markdown",
   "metadata": {},
   "source": [
    "# Proposal 1\n",
    "**Research Question:** How is the time taken to complete the survey related to the age of the participant (for participants that only completed the survey once)?\n",
    "Investigating the association between age and time taken. \n",
    "\n",
    "**Variables:** The age of the participants `(DEMO_age)` and the time taken to complete the survey `(SURVEY_duration_seconds)`.\n",
    "\n",
    "I chose to investigate these variables because old people are less experienced with technology hence may take longer to complete the survey. Also excluding participants that did not complete the survey or completed the survey more than once as they are more familiar with the questions hence tend to complete the survey faster.\n",
    "A histogram would be useful to see which age groups tends to fill out surveys like this as it is easy to identify modes. A box plot would be usefull in removing outliars for completion time, as datapoints beyond the wiskers are outliars. A scatter plot would be useful in this situation as it shows whether or not the relationship between the variables is linear, and the strength of correlation can be determined.\n",
    "\n",
    "**Analysis I Plan to Perform:** By plotting completion time against age and use linear regression model to find correlation between the two variables.\n",
    "\n",
    "**Hypothesis:** If there exists a positive correlation between age and completion time, which means that older people take longer to complete the survey. If the correlation is negative then older people take shorter time to complete the survey. If there is no correlation then completion time is completely independent of age."
   ]
  },
  {
   "cell_type": "markdown",
   "metadata": {},
   "source": [
    "# Proposal 2\n",
    "**Research Question:** Does being confident with cooking make it so you have more close friends?\n",
    "\n",
    "**Variables:** Their confidence level with cooking `(NUTRITION_cooking_and_food_provisioning_action_scale_confidence_with_ingredients)` and number of close friends `(CONNECTION_social_num_close_friends)`.\n",
    "\n",
    "I chose to investigate these variables because knowing how to cook seems to be a very attractive trait, so I would like to know statistically does knowing how to cook get you more friends. A bar plot can be useful for showing the proportion of people in each confidence level, since it is ordinal. A box plot can be useful in identifying outliars (people that have too many or too few close friends), and a histogram can be useful for showing how the number of close friends are distributed for each confidence level. A scatter plot can be useful in showing the relation between the 2 variables, and a regression model can be useful in determining the correlation.\n",
    "\n",
    "**Analysis I Plan to Perform:** \"This feels like a regression problem. I'm told it's actually a classification problem. I'm also told a classification problem is just a regression problem with a categorical outcomes. I still don't know quite what this means or how to do this. I'm told I'll be told how to do this. And I'm told that when I'm told then I'll be able to do it and I'mma do it no problem. Who told me all this? Prof. Scott told me all this. Just like this. That's how Prof. Scott talks. And no I don't know why. If you think you can figure it out be my guest. Dig your own grave if you want to. But just don't say I told you to do it. Prof. Scott told me to do it.\"\n",
    "\n",
    "**Hypothesis:** If there exists a positive correlation between the 2 variables, which means better cooking means more close friends. If there exists a negative correlation which means that better cooking means fewer close friends. If there is no correlation then number of close friends is completely independent of cooking skills."
   ]
  },
  {
   "cell_type": "markdown",
   "metadata": {},
   "source": [
    "# Proposal 3\n",
    "**Research Question:** What is the connection between household income and life satisfaction?\n",
    "\n",
    "**Variables:** Total household income `(DEMO_household_income)` and life satisfaction `(WELLNESS_life_satisfaction)`.\n",
    "\n",
    "I chose to investigate these variables because I want to know statistically can money buy happiness. Bar plots would be useful to show how life satisfaction are distributed for all income levels, as both of these variables are ordinal. Some sort of scatter plot and regression model that determines correlation between the 2 variables would also be useful as a scatter plot demonstrates the relationship between variables.\n",
    "\n",
    "**Analysis I Plan to Perform:** \"This feels like a regression problem. I'm told it's actually a classification problem. I'm also told a classification problem is just a regression problem with a categorical outcomes. I still don't know quite what this means or how to do this. I'm told I'll be told how to do this. And I'm told that when I'm told then I'll be able to do it and I'mma do it no problem. Who told me all this? Prof. Scott told me all this. Just like this. That's how Prof. Scott talks. And no I don't know why. If you think you can figure it out be my guest. Dig your own grave if you want to. But just don't say I told you to do it. Prof. Scott told me to do it.\"\n",
    "\n",
    "**Hypothesis:** If there exists a positive correlation between the 2 variables, which means that money can buy happiness (generally). If there exists a negative correlation then money cannot buy happiness (generally). If there is no correlation then happiness is independent of money."
   ]
  }
 ],
 "metadata": {
  "language_info": {
   "name": "python"
  }
 },
 "nbformat": 4,
 "nbformat_minor": 2
}
